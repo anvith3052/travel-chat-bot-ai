{
  "nbformat": 4,
  "nbformat_minor": 0,
  "metadata": {
    "colab": {
      "provenance": []
    },
    "kernelspec": {
      "name": "python3",
      "display_name": "Python 3"
    },
    "language_info": {
      "name": "python"
    },
    "widgets": {
      "application/vnd.jupyter.widget-state+json": {
        "fd6515004768407ea9feed0241e85409": {
          "model_module": "@jupyter-widgets/controls",
          "model_name": "HBoxModel",
          "model_module_version": "1.5.0",
          "state": {
            "_dom_classes": [],
            "_model_module": "@jupyter-widgets/controls",
            "_model_module_version": "1.5.0",
            "_model_name": "HBoxModel",
            "_view_count": null,
            "_view_module": "@jupyter-widgets/controls",
            "_view_module_version": "1.5.0",
            "_view_name": "HBoxView",
            "box_style": "",
            "children": [
              "IPY_MODEL_1be1d4a23c8048888bd0b2566e2e3115",
              "IPY_MODEL_ef79f14dc7e24558a77e809f5ad4f539",
              "IPY_MODEL_8a85e6e54a9c49e7966faa0380cf6076"
            ],
            "layout": "IPY_MODEL_629b18106175465bbdd6b3551e651a43"
          }
        },
        "1be1d4a23c8048888bd0b2566e2e3115": {
          "model_module": "@jupyter-widgets/controls",
          "model_name": "HTMLModel",
          "model_module_version": "1.5.0",
          "state": {
            "_dom_classes": [],
            "_model_module": "@jupyter-widgets/controls",
            "_model_module_version": "1.5.0",
            "_model_name": "HTMLModel",
            "_view_count": null,
            "_view_module": "@jupyter-widgets/controls",
            "_view_module_version": "1.5.0",
            "_view_name": "HTMLView",
            "description": "",
            "description_tooltip": null,
            "layout": "IPY_MODEL_30157dcb00f54eec9c85066c1765e257",
            "placeholder": "​",
            "style": "IPY_MODEL_10a1d3bf83fb4340b4148efb727443a9",
            "value": "100%"
          }
        },
        "ef79f14dc7e24558a77e809f5ad4f539": {
          "model_module": "@jupyter-widgets/controls",
          "model_name": "FloatProgressModel",
          "model_module_version": "1.5.0",
          "state": {
            "_dom_classes": [],
            "_model_module": "@jupyter-widgets/controls",
            "_model_module_version": "1.5.0",
            "_model_name": "FloatProgressModel",
            "_view_count": null,
            "_view_module": "@jupyter-widgets/controls",
            "_view_module_version": "1.5.0",
            "_view_name": "ProgressView",
            "bar_style": "success",
            "description": "",
            "description_tooltip": null,
            "layout": "IPY_MODEL_184b2f8781ab497da81ec7cda53e7757",
            "max": 1,
            "min": 0,
            "orientation": "horizontal",
            "style": "IPY_MODEL_a2f06f3b61b845bd9e7acfa91235bed2",
            "value": 1
          }
        },
        "8a85e6e54a9c49e7966faa0380cf6076": {
          "model_module": "@jupyter-widgets/controls",
          "model_name": "HTMLModel",
          "model_module_version": "1.5.0",
          "state": {
            "_dom_classes": [],
            "_model_module": "@jupyter-widgets/controls",
            "_model_module_version": "1.5.0",
            "_model_name": "HTMLModel",
            "_view_count": null,
            "_view_module": "@jupyter-widgets/controls",
            "_view_module_version": "1.5.0",
            "_view_name": "HTMLView",
            "description": "",
            "description_tooltip": null,
            "layout": "IPY_MODEL_d8f12edb1ec14d24a8575967142360d9",
            "placeholder": "​",
            "style": "IPY_MODEL_dd76882145034037aa874825f84dfb95",
            "value": " 1/1 [00:21&lt;00:00, 21.86s/it]"
          }
        },
        "629b18106175465bbdd6b3551e651a43": {
          "model_module": "@jupyter-widgets/base",
          "model_name": "LayoutModel",
          "model_module_version": "1.2.0",
          "state": {
            "_model_module": "@jupyter-widgets/base",
            "_model_module_version": "1.2.0",
            "_model_name": "LayoutModel",
            "_view_count": null,
            "_view_module": "@jupyter-widgets/base",
            "_view_module_version": "1.2.0",
            "_view_name": "LayoutView",
            "align_content": null,
            "align_items": null,
            "align_self": null,
            "border": null,
            "bottom": null,
            "display": null,
            "flex": null,
            "flex_flow": null,
            "grid_area": null,
            "grid_auto_columns": null,
            "grid_auto_flow": null,
            "grid_auto_rows": null,
            "grid_column": null,
            "grid_gap": null,
            "grid_row": null,
            "grid_template_areas": null,
            "grid_template_columns": null,
            "grid_template_rows": null,
            "height": null,
            "justify_content": null,
            "justify_items": null,
            "left": null,
            "margin": null,
            "max_height": null,
            "max_width": null,
            "min_height": null,
            "min_width": null,
            "object_fit": null,
            "object_position": null,
            "order": null,
            "overflow": null,
            "overflow_x": null,
            "overflow_y": null,
            "padding": null,
            "right": null,
            "top": null,
            "visibility": null,
            "width": null
          }
        },
        "30157dcb00f54eec9c85066c1765e257": {
          "model_module": "@jupyter-widgets/base",
          "model_name": "LayoutModel",
          "model_module_version": "1.2.0",
          "state": {
            "_model_module": "@jupyter-widgets/base",
            "_model_module_version": "1.2.0",
            "_model_name": "LayoutModel",
            "_view_count": null,
            "_view_module": "@jupyter-widgets/base",
            "_view_module_version": "1.2.0",
            "_view_name": "LayoutView",
            "align_content": null,
            "align_items": null,
            "align_self": null,
            "border": null,
            "bottom": null,
            "display": null,
            "flex": null,
            "flex_flow": null,
            "grid_area": null,
            "grid_auto_columns": null,
            "grid_auto_flow": null,
            "grid_auto_rows": null,
            "grid_column": null,
            "grid_gap": null,
            "grid_row": null,
            "grid_template_areas": null,
            "grid_template_columns": null,
            "grid_template_rows": null,
            "height": null,
            "justify_content": null,
            "justify_items": null,
            "left": null,
            "margin": null,
            "max_height": null,
            "max_width": null,
            "min_height": null,
            "min_width": null,
            "object_fit": null,
            "object_position": null,
            "order": null,
            "overflow": null,
            "overflow_x": null,
            "overflow_y": null,
            "padding": null,
            "right": null,
            "top": null,
            "visibility": null,
            "width": null
          }
        },
        "10a1d3bf83fb4340b4148efb727443a9": {
          "model_module": "@jupyter-widgets/controls",
          "model_name": "DescriptionStyleModel",
          "model_module_version": "1.5.0",
          "state": {
            "_model_module": "@jupyter-widgets/controls",
            "_model_module_version": "1.5.0",
            "_model_name": "DescriptionStyleModel",
            "_view_count": null,
            "_view_module": "@jupyter-widgets/base",
            "_view_module_version": "1.2.0",
            "_view_name": "StyleView",
            "description_width": ""
          }
        },
        "184b2f8781ab497da81ec7cda53e7757": {
          "model_module": "@jupyter-widgets/base",
          "model_name": "LayoutModel",
          "model_module_version": "1.2.0",
          "state": {
            "_model_module": "@jupyter-widgets/base",
            "_model_module_version": "1.2.0",
            "_model_name": "LayoutModel",
            "_view_count": null,
            "_view_module": "@jupyter-widgets/base",
            "_view_module_version": "1.2.0",
            "_view_name": "LayoutView",
            "align_content": null,
            "align_items": null,
            "align_self": null,
            "border": null,
            "bottom": null,
            "display": null,
            "flex": null,
            "flex_flow": null,
            "grid_area": null,
            "grid_auto_columns": null,
            "grid_auto_flow": null,
            "grid_auto_rows": null,
            "grid_column": null,
            "grid_gap": null,
            "grid_row": null,
            "grid_template_areas": null,
            "grid_template_columns": null,
            "grid_template_rows": null,
            "height": null,
            "justify_content": null,
            "justify_items": null,
            "left": null,
            "margin": null,
            "max_height": null,
            "max_width": null,
            "min_height": null,
            "min_width": null,
            "object_fit": null,
            "object_position": null,
            "order": null,
            "overflow": null,
            "overflow_x": null,
            "overflow_y": null,
            "padding": null,
            "right": null,
            "top": null,
            "visibility": null,
            "width": null
          }
        },
        "a2f06f3b61b845bd9e7acfa91235bed2": {
          "model_module": "@jupyter-widgets/controls",
          "model_name": "ProgressStyleModel",
          "model_module_version": "1.5.0",
          "state": {
            "_model_module": "@jupyter-widgets/controls",
            "_model_module_version": "1.5.0",
            "_model_name": "ProgressStyleModel",
            "_view_count": null,
            "_view_module": "@jupyter-widgets/base",
            "_view_module_version": "1.2.0",
            "_view_name": "StyleView",
            "bar_color": null,
            "description_width": ""
          }
        },
        "d8f12edb1ec14d24a8575967142360d9": {
          "model_module": "@jupyter-widgets/base",
          "model_name": "LayoutModel",
          "model_module_version": "1.2.0",
          "state": {
            "_model_module": "@jupyter-widgets/base",
            "_model_module_version": "1.2.0",
            "_model_name": "LayoutModel",
            "_view_count": null,
            "_view_module": "@jupyter-widgets/base",
            "_view_module_version": "1.2.0",
            "_view_name": "LayoutView",
            "align_content": null,
            "align_items": null,
            "align_self": null,
            "border": null,
            "bottom": null,
            "display": null,
            "flex": null,
            "flex_flow": null,
            "grid_area": null,
            "grid_auto_columns": null,
            "grid_auto_flow": null,
            "grid_auto_rows": null,
            "grid_column": null,
            "grid_gap": null,
            "grid_row": null,
            "grid_template_areas": null,
            "grid_template_columns": null,
            "grid_template_rows": null,
            "height": null,
            "justify_content": null,
            "justify_items": null,
            "left": null,
            "margin": null,
            "max_height": null,
            "max_width": null,
            "min_height": null,
            "min_width": null,
            "object_fit": null,
            "object_position": null,
            "order": null,
            "overflow": null,
            "overflow_x": null,
            "overflow_y": null,
            "padding": null,
            "right": null,
            "top": null,
            "visibility": null,
            "width": null
          }
        },
        "dd76882145034037aa874825f84dfb95": {
          "model_module": "@jupyter-widgets/controls",
          "model_name": "DescriptionStyleModel",
          "model_module_version": "1.5.0",
          "state": {
            "_model_module": "@jupyter-widgets/controls",
            "_model_module_version": "1.5.0",
            "_model_name": "DescriptionStyleModel",
            "_view_count": null,
            "_view_module": "@jupyter-widgets/base",
            "_view_module_version": "1.2.0",
            "_view_name": "StyleView",
            "description_width": ""
          }
        },
        "7aa0f44cdf3240af90498d8f322abacf": {
          "model_module": "@jupyter-widgets/controls",
          "model_name": "HBoxModel",
          "model_module_version": "1.5.0",
          "state": {
            "_dom_classes": [],
            "_model_module": "@jupyter-widgets/controls",
            "_model_module_version": "1.5.0",
            "_model_name": "HBoxModel",
            "_view_count": null,
            "_view_module": "@jupyter-widgets/controls",
            "_view_module_version": "1.5.0",
            "_view_name": "HBoxView",
            "box_style": "",
            "children": [
              "IPY_MODEL_9b662d60d7b445fc9c7b7e0400adfd6d",
              "IPY_MODEL_6aad97df10eb417d800b9a8496f6d020",
              "IPY_MODEL_e2b523cec76b4b20917c5a1653ea9aea"
            ],
            "layout": "IPY_MODEL_0d22ccf4187e48b3920e865884a069fb"
          }
        },
        "9b662d60d7b445fc9c7b7e0400adfd6d": {
          "model_module": "@jupyter-widgets/controls",
          "model_name": "HTMLModel",
          "model_module_version": "1.5.0",
          "state": {
            "_dom_classes": [],
            "_model_module": "@jupyter-widgets/controls",
            "_model_module_version": "1.5.0",
            "_model_name": "HTMLModel",
            "_view_count": null,
            "_view_module": "@jupyter-widgets/controls",
            "_view_module_version": "1.5.0",
            "_view_name": "HTMLView",
            "description": "",
            "description_tooltip": null,
            "layout": "IPY_MODEL_43e722aa76f24c49bcc545f7d5a7a3ac",
            "placeholder": "​",
            "style": "IPY_MODEL_a9e6eeb5a28441cda89fe67c1459fe6e",
            "value": "100%"
          }
        },
        "6aad97df10eb417d800b9a8496f6d020": {
          "model_module": "@jupyter-widgets/controls",
          "model_name": "FloatProgressModel",
          "model_module_version": "1.5.0",
          "state": {
            "_dom_classes": [],
            "_model_module": "@jupyter-widgets/controls",
            "_model_module_version": "1.5.0",
            "_model_name": "FloatProgressModel",
            "_view_count": null,
            "_view_module": "@jupyter-widgets/controls",
            "_view_module_version": "1.5.0",
            "_view_name": "ProgressView",
            "bar_style": "success",
            "description": "",
            "description_tooltip": null,
            "layout": "IPY_MODEL_31d498aa7edf4d04a140525fabf41f1b",
            "max": 1,
            "min": 0,
            "orientation": "horizontal",
            "style": "IPY_MODEL_cec6da618c0d437aabf9c162de404bd4",
            "value": 1
          }
        },
        "e2b523cec76b4b20917c5a1653ea9aea": {
          "model_module": "@jupyter-widgets/controls",
          "model_name": "HTMLModel",
          "model_module_version": "1.5.0",
          "state": {
            "_dom_classes": [],
            "_model_module": "@jupyter-widgets/controls",
            "_model_module_version": "1.5.0",
            "_model_name": "HTMLModel",
            "_view_count": null,
            "_view_module": "@jupyter-widgets/controls",
            "_view_module_version": "1.5.0",
            "_view_name": "HTMLView",
            "description": "",
            "description_tooltip": null,
            "layout": "IPY_MODEL_48891f906734420daa6e3176249dcb88",
            "placeholder": "​",
            "style": "IPY_MODEL_c400c29de051492da4dc3bcc106cf6ef",
            "value": " 1/1 [00:00&lt;00:00,  8.59it/s]"
          }
        },
        "0d22ccf4187e48b3920e865884a069fb": {
          "model_module": "@jupyter-widgets/base",
          "model_name": "LayoutModel",
          "model_module_version": "1.2.0",
          "state": {
            "_model_module": "@jupyter-widgets/base",
            "_model_module_version": "1.2.0",
            "_model_name": "LayoutModel",
            "_view_count": null,
            "_view_module": "@jupyter-widgets/base",
            "_view_module_version": "1.2.0",
            "_view_name": "LayoutView",
            "align_content": null,
            "align_items": null,
            "align_self": null,
            "border": null,
            "bottom": null,
            "display": null,
            "flex": null,
            "flex_flow": null,
            "grid_area": null,
            "grid_auto_columns": null,
            "grid_auto_flow": null,
            "grid_auto_rows": null,
            "grid_column": null,
            "grid_gap": null,
            "grid_row": null,
            "grid_template_areas": null,
            "grid_template_columns": null,
            "grid_template_rows": null,
            "height": null,
            "justify_content": null,
            "justify_items": null,
            "left": null,
            "margin": null,
            "max_height": null,
            "max_width": null,
            "min_height": null,
            "min_width": null,
            "object_fit": null,
            "object_position": null,
            "order": null,
            "overflow": null,
            "overflow_x": null,
            "overflow_y": null,
            "padding": null,
            "right": null,
            "top": null,
            "visibility": null,
            "width": null
          }
        },
        "43e722aa76f24c49bcc545f7d5a7a3ac": {
          "model_module": "@jupyter-widgets/base",
          "model_name": "LayoutModel",
          "model_module_version": "1.2.0",
          "state": {
            "_model_module": "@jupyter-widgets/base",
            "_model_module_version": "1.2.0",
            "_model_name": "LayoutModel",
            "_view_count": null,
            "_view_module": "@jupyter-widgets/base",
            "_view_module_version": "1.2.0",
            "_view_name": "LayoutView",
            "align_content": null,
            "align_items": null,
            "align_self": null,
            "border": null,
            "bottom": null,
            "display": null,
            "flex": null,
            "flex_flow": null,
            "grid_area": null,
            "grid_auto_columns": null,
            "grid_auto_flow": null,
            "grid_auto_rows": null,
            "grid_column": null,
            "grid_gap": null,
            "grid_row": null,
            "grid_template_areas": null,
            "grid_template_columns": null,
            "grid_template_rows": null,
            "height": null,
            "justify_content": null,
            "justify_items": null,
            "left": null,
            "margin": null,
            "max_height": null,
            "max_width": null,
            "min_height": null,
            "min_width": null,
            "object_fit": null,
            "object_position": null,
            "order": null,
            "overflow": null,
            "overflow_x": null,
            "overflow_y": null,
            "padding": null,
            "right": null,
            "top": null,
            "visibility": null,
            "width": null
          }
        },
        "a9e6eeb5a28441cda89fe67c1459fe6e": {
          "model_module": "@jupyter-widgets/controls",
          "model_name": "DescriptionStyleModel",
          "model_module_version": "1.5.0",
          "state": {
            "_model_module": "@jupyter-widgets/controls",
            "_model_module_version": "1.5.0",
            "_model_name": "DescriptionStyleModel",
            "_view_count": null,
            "_view_module": "@jupyter-widgets/base",
            "_view_module_version": "1.2.0",
            "_view_name": "StyleView",
            "description_width": ""
          }
        },
        "31d498aa7edf4d04a140525fabf41f1b": {
          "model_module": "@jupyter-widgets/base",
          "model_name": "LayoutModel",
          "model_module_version": "1.2.0",
          "state": {
            "_model_module": "@jupyter-widgets/base",
            "_model_module_version": "1.2.0",
            "_model_name": "LayoutModel",
            "_view_count": null,
            "_view_module": "@jupyter-widgets/base",
            "_view_module_version": "1.2.0",
            "_view_name": "LayoutView",
            "align_content": null,
            "align_items": null,
            "align_self": null,
            "border": null,
            "bottom": null,
            "display": null,
            "flex": null,
            "flex_flow": null,
            "grid_area": null,
            "grid_auto_columns": null,
            "grid_auto_flow": null,
            "grid_auto_rows": null,
            "grid_column": null,
            "grid_gap": null,
            "grid_row": null,
            "grid_template_areas": null,
            "grid_template_columns": null,
            "grid_template_rows": null,
            "height": null,
            "justify_content": null,
            "justify_items": null,
            "left": null,
            "margin": null,
            "max_height": null,
            "max_width": null,
            "min_height": null,
            "min_width": null,
            "object_fit": null,
            "object_position": null,
            "order": null,
            "overflow": null,
            "overflow_x": null,
            "overflow_y": null,
            "padding": null,
            "right": null,
            "top": null,
            "visibility": null,
            "width": null
          }
        },
        "cec6da618c0d437aabf9c162de404bd4": {
          "model_module": "@jupyter-widgets/controls",
          "model_name": "ProgressStyleModel",
          "model_module_version": "1.5.0",
          "state": {
            "_model_module": "@jupyter-widgets/controls",
            "_model_module_version": "1.5.0",
            "_model_name": "ProgressStyleModel",
            "_view_count": null,
            "_view_module": "@jupyter-widgets/base",
            "_view_module_version": "1.2.0",
            "_view_name": "StyleView",
            "bar_color": null,
            "description_width": ""
          }
        },
        "48891f906734420daa6e3176249dcb88": {
          "model_module": "@jupyter-widgets/base",
          "model_name": "LayoutModel",
          "model_module_version": "1.2.0",
          "state": {
            "_model_module": "@jupyter-widgets/base",
            "_model_module_version": "1.2.0",
            "_model_name": "LayoutModel",
            "_view_count": null,
            "_view_module": "@jupyter-widgets/base",
            "_view_module_version": "1.2.0",
            "_view_name": "LayoutView",
            "align_content": null,
            "align_items": null,
            "align_self": null,
            "border": null,
            "bottom": null,
            "display": null,
            "flex": null,
            "flex_flow": null,
            "grid_area": null,
            "grid_auto_columns": null,
            "grid_auto_flow": null,
            "grid_auto_rows": null,
            "grid_column": null,
            "grid_gap": null,
            "grid_row": null,
            "grid_template_areas": null,
            "grid_template_columns": null,
            "grid_template_rows": null,
            "height": null,
            "justify_content": null,
            "justify_items": null,
            "left": null,
            "margin": null,
            "max_height": null,
            "max_width": null,
            "min_height": null,
            "min_width": null,
            "object_fit": null,
            "object_position": null,
            "order": null,
            "overflow": null,
            "overflow_x": null,
            "overflow_y": null,
            "padding": null,
            "right": null,
            "top": null,
            "visibility": null,
            "width": null
          }
        },
        "c400c29de051492da4dc3bcc106cf6ef": {
          "model_module": "@jupyter-widgets/controls",
          "model_name": "DescriptionStyleModel",
          "model_module_version": "1.5.0",
          "state": {
            "_model_module": "@jupyter-widgets/controls",
            "_model_module_version": "1.5.0",
            "_model_name": "DescriptionStyleModel",
            "_view_count": null,
            "_view_module": "@jupyter-widgets/base",
            "_view_module_version": "1.2.0",
            "_view_name": "StyleView",
            "description_width": ""
          }
        },
        "417a704f81594967a02dbaceaf3dc3e4": {
          "model_module": "@jupyter-widgets/controls",
          "model_name": "HBoxModel",
          "model_module_version": "1.5.0",
          "state": {
            "_dom_classes": [],
            "_model_module": "@jupyter-widgets/controls",
            "_model_module_version": "1.5.0",
            "_model_name": "HBoxModel",
            "_view_count": null,
            "_view_module": "@jupyter-widgets/controls",
            "_view_module_version": "1.5.0",
            "_view_name": "HBoxView",
            "box_style": "",
            "children": [
              "IPY_MODEL_73332b076c43425abe17d3bfd17fa8ca",
              "IPY_MODEL_e03c7c0e2b2f4cbc8382ca5098a41284",
              "IPY_MODEL_2e190990febb480f8c29a7bf0bab93e1"
            ],
            "layout": "IPY_MODEL_a20ab1564cf9451c9d3dbf7ec4a71846"
          }
        },
        "73332b076c43425abe17d3bfd17fa8ca": {
          "model_module": "@jupyter-widgets/controls",
          "model_name": "HTMLModel",
          "model_module_version": "1.5.0",
          "state": {
            "_dom_classes": [],
            "_model_module": "@jupyter-widgets/controls",
            "_model_module_version": "1.5.0",
            "_model_name": "HTMLModel",
            "_view_count": null,
            "_view_module": "@jupyter-widgets/controls",
            "_view_module_version": "1.5.0",
            "_view_name": "HTMLView",
            "description": "",
            "description_tooltip": null,
            "layout": "IPY_MODEL_d9deb86095a54884814ba4b758d08507",
            "placeholder": "​",
            "style": "IPY_MODEL_a7c05c12b6664a348ac5ddece472c7d7",
            "value": "100%"
          }
        },
        "e03c7c0e2b2f4cbc8382ca5098a41284": {
          "model_module": "@jupyter-widgets/controls",
          "model_name": "FloatProgressModel",
          "model_module_version": "1.5.0",
          "state": {
            "_dom_classes": [],
            "_model_module": "@jupyter-widgets/controls",
            "_model_module_version": "1.5.0",
            "_model_name": "FloatProgressModel",
            "_view_count": null,
            "_view_module": "@jupyter-widgets/controls",
            "_view_module_version": "1.5.0",
            "_view_name": "ProgressView",
            "bar_style": "success",
            "description": "",
            "description_tooltip": null,
            "layout": "IPY_MODEL_ea9393dc58c74bb480fb18131f6605ac",
            "max": 1,
            "min": 0,
            "orientation": "horizontal",
            "style": "IPY_MODEL_d8ff7d2c5a554c2b81d57394f1348c8e",
            "value": 1
          }
        },
        "2e190990febb480f8c29a7bf0bab93e1": {
          "model_module": "@jupyter-widgets/controls",
          "model_name": "HTMLModel",
          "model_module_version": "1.5.0",
          "state": {
            "_dom_classes": [],
            "_model_module": "@jupyter-widgets/controls",
            "_model_module_version": "1.5.0",
            "_model_name": "HTMLModel",
            "_view_count": null,
            "_view_module": "@jupyter-widgets/controls",
            "_view_module_version": "1.5.0",
            "_view_name": "HTMLView",
            "description": "",
            "description_tooltip": null,
            "layout": "IPY_MODEL_df535993c57e43a4af295f5a47897f9b",
            "placeholder": "​",
            "style": "IPY_MODEL_db69b8bcb65048aaa060f1da792c1587",
            "value": " 1/1 [00:19&lt;00:00, 19.32s/it]"
          }
        },
        "a20ab1564cf9451c9d3dbf7ec4a71846": {
          "model_module": "@jupyter-widgets/base",
          "model_name": "LayoutModel",
          "model_module_version": "1.2.0",
          "state": {
            "_model_module": "@jupyter-widgets/base",
            "_model_module_version": "1.2.0",
            "_model_name": "LayoutModel",
            "_view_count": null,
            "_view_module": "@jupyter-widgets/base",
            "_view_module_version": "1.2.0",
            "_view_name": "LayoutView",
            "align_content": null,
            "align_items": null,
            "align_self": null,
            "border": null,
            "bottom": null,
            "display": null,
            "flex": null,
            "flex_flow": null,
            "grid_area": null,
            "grid_auto_columns": null,
            "grid_auto_flow": null,
            "grid_auto_rows": null,
            "grid_column": null,
            "grid_gap": null,
            "grid_row": null,
            "grid_template_areas": null,
            "grid_template_columns": null,
            "grid_template_rows": null,
            "height": null,
            "justify_content": null,
            "justify_items": null,
            "left": null,
            "margin": null,
            "max_height": null,
            "max_width": null,
            "min_height": null,
            "min_width": null,
            "object_fit": null,
            "object_position": null,
            "order": null,
            "overflow": null,
            "overflow_x": null,
            "overflow_y": null,
            "padding": null,
            "right": null,
            "top": null,
            "visibility": null,
            "width": null
          }
        },
        "d9deb86095a54884814ba4b758d08507": {
          "model_module": "@jupyter-widgets/base",
          "model_name": "LayoutModel",
          "model_module_version": "1.2.0",
          "state": {
            "_model_module": "@jupyter-widgets/base",
            "_model_module_version": "1.2.0",
            "_model_name": "LayoutModel",
            "_view_count": null,
            "_view_module": "@jupyter-widgets/base",
            "_view_module_version": "1.2.0",
            "_view_name": "LayoutView",
            "align_content": null,
            "align_items": null,
            "align_self": null,
            "border": null,
            "bottom": null,
            "display": null,
            "flex": null,
            "flex_flow": null,
            "grid_area": null,
            "grid_auto_columns": null,
            "grid_auto_flow": null,
            "grid_auto_rows": null,
            "grid_column": null,
            "grid_gap": null,
            "grid_row": null,
            "grid_template_areas": null,
            "grid_template_columns": null,
            "grid_template_rows": null,
            "height": null,
            "justify_content": null,
            "justify_items": null,
            "left": null,
            "margin": null,
            "max_height": null,
            "max_width": null,
            "min_height": null,
            "min_width": null,
            "object_fit": null,
            "object_position": null,
            "order": null,
            "overflow": null,
            "overflow_x": null,
            "overflow_y": null,
            "padding": null,
            "right": null,
            "top": null,
            "visibility": null,
            "width": null
          }
        },
        "a7c05c12b6664a348ac5ddece472c7d7": {
          "model_module": "@jupyter-widgets/controls",
          "model_name": "DescriptionStyleModel",
          "model_module_version": "1.5.0",
          "state": {
            "_model_module": "@jupyter-widgets/controls",
            "_model_module_version": "1.5.0",
            "_model_name": "DescriptionStyleModel",
            "_view_count": null,
            "_view_module": "@jupyter-widgets/base",
            "_view_module_version": "1.2.0",
            "_view_name": "StyleView",
            "description_width": ""
          }
        },
        "ea9393dc58c74bb480fb18131f6605ac": {
          "model_module": "@jupyter-widgets/base",
          "model_name": "LayoutModel",
          "model_module_version": "1.2.0",
          "state": {
            "_model_module": "@jupyter-widgets/base",
            "_model_module_version": "1.2.0",
            "_model_name": "LayoutModel",
            "_view_count": null,
            "_view_module": "@jupyter-widgets/base",
            "_view_module_version": "1.2.0",
            "_view_name": "LayoutView",
            "align_content": null,
            "align_items": null,
            "align_self": null,
            "border": null,
            "bottom": null,
            "display": null,
            "flex": null,
            "flex_flow": null,
            "grid_area": null,
            "grid_auto_columns": null,
            "grid_auto_flow": null,
            "grid_auto_rows": null,
            "grid_column": null,
            "grid_gap": null,
            "grid_row": null,
            "grid_template_areas": null,
            "grid_template_columns": null,
            "grid_template_rows": null,
            "height": null,
            "justify_content": null,
            "justify_items": null,
            "left": null,
            "margin": null,
            "max_height": null,
            "max_width": null,
            "min_height": null,
            "min_width": null,
            "object_fit": null,
            "object_position": null,
            "order": null,
            "overflow": null,
            "overflow_x": null,
            "overflow_y": null,
            "padding": null,
            "right": null,
            "top": null,
            "visibility": null,
            "width": null
          }
        },
        "d8ff7d2c5a554c2b81d57394f1348c8e": {
          "model_module": "@jupyter-widgets/controls",
          "model_name": "ProgressStyleModel",
          "model_module_version": "1.5.0",
          "state": {
            "_model_module": "@jupyter-widgets/controls",
            "_model_module_version": "1.5.0",
            "_model_name": "ProgressStyleModel",
            "_view_count": null,
            "_view_module": "@jupyter-widgets/base",
            "_view_module_version": "1.2.0",
            "_view_name": "StyleView",
            "bar_color": null,
            "description_width": ""
          }
        },
        "df535993c57e43a4af295f5a47897f9b": {
          "model_module": "@jupyter-widgets/base",
          "model_name": "LayoutModel",
          "model_module_version": "1.2.0",
          "state": {
            "_model_module": "@jupyter-widgets/base",
            "_model_module_version": "1.2.0",
            "_model_name": "LayoutModel",
            "_view_count": null,
            "_view_module": "@jupyter-widgets/base",
            "_view_module_version": "1.2.0",
            "_view_name": "LayoutView",
            "align_content": null,
            "align_items": null,
            "align_self": null,
            "border": null,
            "bottom": null,
            "display": null,
            "flex": null,
            "flex_flow": null,
            "grid_area": null,
            "grid_auto_columns": null,
            "grid_auto_flow": null,
            "grid_auto_rows": null,
            "grid_column": null,
            "grid_gap": null,
            "grid_row": null,
            "grid_template_areas": null,
            "grid_template_columns": null,
            "grid_template_rows": null,
            "height": null,
            "justify_content": null,
            "justify_items": null,
            "left": null,
            "margin": null,
            "max_height": null,
            "max_width": null,
            "min_height": null,
            "min_width": null,
            "object_fit": null,
            "object_position": null,
            "order": null,
            "overflow": null,
            "overflow_x": null,
            "overflow_y": null,
            "padding": null,
            "right": null,
            "top": null,
            "visibility": null,
            "width": null
          }
        },
        "db69b8bcb65048aaa060f1da792c1587": {
          "model_module": "@jupyter-widgets/controls",
          "model_name": "DescriptionStyleModel",
          "model_module_version": "1.5.0",
          "state": {
            "_model_module": "@jupyter-widgets/controls",
            "_model_module_version": "1.5.0",
            "_model_name": "DescriptionStyleModel",
            "_view_count": null,
            "_view_module": "@jupyter-widgets/base",
            "_view_module_version": "1.2.0",
            "_view_name": "StyleView",
            "description_width": ""
          }
        },
        "c87e4f9ed80a48ef8b989fe1983e9a75": {
          "model_module": "@jupyter-widgets/controls",
          "model_name": "HBoxModel",
          "model_module_version": "1.5.0",
          "state": {
            "_dom_classes": [],
            "_model_module": "@jupyter-widgets/controls",
            "_model_module_version": "1.5.0",
            "_model_name": "HBoxModel",
            "_view_count": null,
            "_view_module": "@jupyter-widgets/controls",
            "_view_module_version": "1.5.0",
            "_view_name": "HBoxView",
            "box_style": "",
            "children": [
              "IPY_MODEL_548df0253b4445eeba21f95162c48c59",
              "IPY_MODEL_a6fba26569ca4427bf66902d978f0b38",
              "IPY_MODEL_25c215ce468b498698f59170f01fbad4"
            ],
            "layout": "IPY_MODEL_788cb01bb1344d629a2bf74bf44b255a"
          }
        },
        "4d835e93a5dc42c38050334a292820c4": {
          "model_module": "@jupyter-widgets/controls",
          "model_name": "HBoxModel",
          "model_module_version": "1.5.0",
          "state": {
            "_dom_classes": [],
            "_model_module": "@jupyter-widgets/controls",
            "_model_module_version": "1.5.0",
            "_model_name": "HBoxModel",
            "_view_count": null,
            "_view_module": "@jupyter-widgets/controls",
            "_view_module_version": "1.5.0",
            "_view_name": "HBoxView",
            "box_style": "",
            "children": [
              "IPY_MODEL_c59431f5e09948a6939a1869b7e4c2fe",
              "IPY_MODEL_3de4ac4faa344d2ea5c5acde91176eab",
              "IPY_MODEL_4d1ab6f9b4ca4867b90807ad38904cb4"
            ],
            "layout": "IPY_MODEL_a81ce0f57a964d8abbd3deda8e8a7dea"
          }
        },
        "c59431f5e09948a6939a1869b7e4c2fe": {
          "model_module": "@jupyter-widgets/controls",
          "model_name": "HTMLModel",
          "model_module_version": "1.5.0",
          "state": {
            "_dom_classes": [],
            "_model_module": "@jupyter-widgets/controls",
            "_model_module_version": "1.5.0",
            "_model_name": "HTMLModel",
            "_view_count": null,
            "_view_module": "@jupyter-widgets/controls",
            "_view_module_version": "1.5.0",
            "_view_name": "HTMLView",
            "description": "",
            "description_tooltip": null,
            "layout": "IPY_MODEL_603a548a88b64b92b6bb7569d1851d82",
            "placeholder": "​",
            "style": "IPY_MODEL_f6e1d71b62164935bd3cbc1ee46187b8",
            "value": "100%"
          }
        },
        "3de4ac4faa344d2ea5c5acde91176eab": {
          "model_module": "@jupyter-widgets/controls",
          "model_name": "FloatProgressModel",
          "model_module_version": "1.5.0",
          "state": {
            "_dom_classes": [],
            "_model_module": "@jupyter-widgets/controls",
            "_model_module_version": "1.5.0",
            "_model_name": "FloatProgressModel",
            "_view_count": null,
            "_view_module": "@jupyter-widgets/controls",
            "_view_module_version": "1.5.0",
            "_view_name": "ProgressView",
            "bar_style": "success",
            "description": "",
            "description_tooltip": null,
            "layout": "IPY_MODEL_49351b7382614ecaa490e52d6a13000b",
            "max": 1,
            "min": 0,
            "orientation": "horizontal",
            "style": "IPY_MODEL_72ce692fd4ce48b390f69db9d8bf0a38",
            "value": 1
          }
        },
        "4d1ab6f9b4ca4867b90807ad38904cb4": {
          "model_module": "@jupyter-widgets/controls",
          "model_name": "HTMLModel",
          "model_module_version": "1.5.0",
          "state": {
            "_dom_classes": [],
            "_model_module": "@jupyter-widgets/controls",
            "_model_module_version": "1.5.0",
            "_model_name": "HTMLModel",
            "_view_count": null,
            "_view_module": "@jupyter-widgets/controls",
            "_view_module_version": "1.5.0",
            "_view_name": "HTMLView",
            "description": "",
            "description_tooltip": null,
            "layout": "IPY_MODEL_cee9eabcaab44185b2cd07daf0fbea6d",
            "placeholder": "​",
            "style": "IPY_MODEL_5d43d5e884464de48ec8597f7f2ae779",
            "value": " 1/1 [00:16&lt;00:00, 16.46s/it]"
          }
        },
        "a81ce0f57a964d8abbd3deda8e8a7dea": {
          "model_module": "@jupyter-widgets/base",
          "model_name": "LayoutModel",
          "model_module_version": "1.2.0",
          "state": {
            "_model_module": "@jupyter-widgets/base",
            "_model_module_version": "1.2.0",
            "_model_name": "LayoutModel",
            "_view_count": null,
            "_view_module": "@jupyter-widgets/base",
            "_view_module_version": "1.2.0",
            "_view_name": "LayoutView",
            "align_content": null,
            "align_items": null,
            "align_self": null,
            "border": null,
            "bottom": null,
            "display": null,
            "flex": null,
            "flex_flow": null,
            "grid_area": null,
            "grid_auto_columns": null,
            "grid_auto_flow": null,
            "grid_auto_rows": null,
            "grid_column": null,
            "grid_gap": null,
            "grid_row": null,
            "grid_template_areas": null,
            "grid_template_columns": null,
            "grid_template_rows": null,
            "height": null,
            "justify_content": null,
            "justify_items": null,
            "left": null,
            "margin": null,
            "max_height": null,
            "max_width": null,
            "min_height": null,
            "min_width": null,
            "object_fit": null,
            "object_position": null,
            "order": null,
            "overflow": null,
            "overflow_x": null,
            "overflow_y": null,
            "padding": null,
            "right": null,
            "top": null,
            "visibility": null,
            "width": null
          }
        },
        "603a548a88b64b92b6bb7569d1851d82": {
          "model_module": "@jupyter-widgets/base",
          "model_name": "LayoutModel",
          "model_module_version": "1.2.0",
          "state": {
            "_model_module": "@jupyter-widgets/base",
            "_model_module_version": "1.2.0",
            "_model_name": "LayoutModel",
            "_view_count": null,
            "_view_module": "@jupyter-widgets/base",
            "_view_module_version": "1.2.0",
            "_view_name": "LayoutView",
            "align_content": null,
            "align_items": null,
            "align_self": null,
            "border": null,
            "bottom": null,
            "display": null,
            "flex": null,
            "flex_flow": null,
            "grid_area": null,
            "grid_auto_columns": null,
            "grid_auto_flow": null,
            "grid_auto_rows": null,
            "grid_column": null,
            "grid_gap": null,
            "grid_row": null,
            "grid_template_areas": null,
            "grid_template_columns": null,
            "grid_template_rows": null,
            "height": null,
            "justify_content": null,
            "justify_items": null,
            "left": null,
            "margin": null,
            "max_height": null,
            "max_width": null,
            "min_height": null,
            "min_width": null,
            "object_fit": null,
            "object_position": null,
            "order": null,
            "overflow": null,
            "overflow_x": null,
            "overflow_y": null,
            "padding": null,
            "right": null,
            "top": null,
            "visibility": null,
            "width": null
          }
        },
        "f6e1d71b62164935bd3cbc1ee46187b8": {
          "model_module": "@jupyter-widgets/controls",
          "model_name": "DescriptionStyleModel",
          "model_module_version": "1.5.0",
          "state": {
            "_model_module": "@jupyter-widgets/controls",
            "_model_module_version": "1.5.0",
            "_model_name": "DescriptionStyleModel",
            "_view_count": null,
            "_view_module": "@jupyter-widgets/base",
            "_view_module_version": "1.2.0",
            "_view_name": "StyleView",
            "description_width": ""
          }
        },
        "49351b7382614ecaa490e52d6a13000b": {
          "model_module": "@jupyter-widgets/base",
          "model_name": "LayoutModel",
          "model_module_version": "1.2.0",
          "state": {
            "_model_module": "@jupyter-widgets/base",
            "_model_module_version": "1.2.0",
            "_model_name": "LayoutModel",
            "_view_count": null,
            "_view_module": "@jupyter-widgets/base",
            "_view_module_version": "1.2.0",
            "_view_name": "LayoutView",
            "align_content": null,
            "align_items": null,
            "align_self": null,
            "border": null,
            "bottom": null,
            "display": null,
            "flex": null,
            "flex_flow": null,
            "grid_area": null,
            "grid_auto_columns": null,
            "grid_auto_flow": null,
            "grid_auto_rows": null,
            "grid_column": null,
            "grid_gap": null,
            "grid_row": null,
            "grid_template_areas": null,
            "grid_template_columns": null,
            "grid_template_rows": null,
            "height": null,
            "justify_content": null,
            "justify_items": null,
            "left": null,
            "margin": null,
            "max_height": null,
            "max_width": null,
            "min_height": null,
            "min_width": null,
            "object_fit": null,
            "object_position": null,
            "order": null,
            "overflow": null,
            "overflow_x": null,
            "overflow_y": null,
            "padding": null,
            "right": null,
            "top": null,
            "visibility": null,
            "width": null
          }
        },
        "72ce692fd4ce48b390f69db9d8bf0a38": {
          "model_module": "@jupyter-widgets/controls",
          "model_name": "ProgressStyleModel",
          "model_module_version": "1.5.0",
          "state": {
            "_model_module": "@jupyter-widgets/controls",
            "_model_module_version": "1.5.0",
            "_model_name": "ProgressStyleModel",
            "_view_count": null,
            "_view_module": "@jupyter-widgets/base",
            "_view_module_version": "1.2.0",
            "_view_name": "StyleView",
            "bar_color": null,
            "description_width": ""
          }
        },
        "cee9eabcaab44185b2cd07daf0fbea6d": {
          "model_module": "@jupyter-widgets/base",
          "model_name": "LayoutModel",
          "model_module_version": "1.2.0",
          "state": {
            "_model_module": "@jupyter-widgets/base",
            "_model_module_version": "1.2.0",
            "_model_name": "LayoutModel",
            "_view_count": null,
            "_view_module": "@jupyter-widgets/base",
            "_view_module_version": "1.2.0",
            "_view_name": "LayoutView",
            "align_content": null,
            "align_items": null,
            "align_self": null,
            "border": null,
            "bottom": null,
            "display": null,
            "flex": null,
            "flex_flow": null,
            "grid_area": null,
            "grid_auto_columns": null,
            "grid_auto_flow": null,
            "grid_auto_rows": null,
            "grid_column": null,
            "grid_gap": null,
            "grid_row": null,
            "grid_template_areas": null,
            "grid_template_columns": null,
            "grid_template_rows": null,
            "height": null,
            "justify_content": null,
            "justify_items": null,
            "left": null,
            "margin": null,
            "max_height": null,
            "max_width": null,
            "min_height": null,
            "min_width": null,
            "object_fit": null,
            "object_position": null,
            "order": null,
            "overflow": null,
            "overflow_x": null,
            "overflow_y": null,
            "padding": null,
            "right": null,
            "top": null,
            "visibility": null,
            "width": null
          }
        },
        "5d43d5e884464de48ec8597f7f2ae779": {
          "model_module": "@jupyter-widgets/controls",
          "model_name": "DescriptionStyleModel",
          "model_module_version": "1.5.0",
          "state": {
            "_model_module": "@jupyter-widgets/controls",
            "_model_module_version": "1.5.0",
            "_model_name": "DescriptionStyleModel",
            "_view_count": null,
            "_view_module": "@jupyter-widgets/base",
            "_view_module_version": "1.2.0",
            "_view_name": "StyleView",
            "description_width": ""
          }
        },
        "1ef2bb2c77f04fef877cf76ac397072a": {
          "model_module": "@jupyter-widgets/controls",
          "model_name": "HBoxModel",
          "model_module_version": "1.5.0",
          "state": {
            "_dom_classes": [],
            "_model_module": "@jupyter-widgets/controls",
            "_model_module_version": "1.5.0",
            "_model_name": "HBoxModel",
            "_view_count": null,
            "_view_module": "@jupyter-widgets/controls",
            "_view_module_version": "1.5.0",
            "_view_name": "HBoxView",
            "box_style": "",
            "children": [
              "IPY_MODEL_170f1d8f99ab454e957c291c1d3d0eb7",
              "IPY_MODEL_9fd837b3c2d245f585299d3520f0828c",
              "IPY_MODEL_fd97dc8e9bfd4060bae1d015d1948008"
            ],
            "layout": "IPY_MODEL_17adc999df6b4e9688f90de165a73fa0"
          }
        }
      }
    }
  },
  "cells": [
    {
      "cell_type": "code",
      "source": [],
      "metadata": {
        "id": "WGMlhGugl-ZG"
      },
      "execution_count": null,
      "outputs": []
    },
    {
      "cell_type": "markdown",
      "source": [
        "## Installing and Importing Libraries"
      ],
      "metadata": {
        "id": "0Gy2AO-5l_Kc"
      }
    },
    {
      "cell_type": "code",
      "source": [
        "pip install rouge"
      ],
      "metadata": {
        "colab": {
          "base_uri": "https://localhost:8080/"
        },
        "id": "ivD-Osjpemlm",
        "outputId": "3309897b-53a6-49b5-c2e3-06bab53ce182"
      },
      "execution_count": null,
      "outputs": [
        {
          "output_type": "stream",
          "name": "stdout",
          "text": [
            "Collecting rouge\n",
            "  Downloading rouge-1.0.1-py3-none-any.whl (13 kB)\n",
            "Requirement already satisfied: six in /usr/local/lib/python3.10/dist-packages (from rouge) (1.16.0)\n",
            "Installing collected packages: rouge\n",
            "Successfully installed rouge-1.0.1\n"
          ]
        }
      ]
    },
    {
      "cell_type": "code",
      "source": [],
      "metadata": {
        "id": "ujMkt7Xq01bq"
      },
      "execution_count": null,
      "outputs": []
    },
    {
      "cell_type": "code",
      "source": [
        "pip install sacrebleu\n"
      ],
      "metadata": {
        "colab": {
          "base_uri": "https://localhost:8080/"
        },
        "id": "eIwnmZD-jKC6",
        "outputId": "91450256-5fbc-426c-86a1-b5d8ebf666a3"
      },
      "execution_count": null,
      "outputs": [
        {
          "output_type": "stream",
          "name": "stdout",
          "text": [
            "Collecting sacrebleu\n",
            "  Downloading sacrebleu-2.4.2-py3-none-any.whl (106 kB)\n",
            "\u001b[?25l     \u001b[90m━━━━━━━━━━━━━━━━━━━━━━━━━━━━━━━━━━━━━━━━\u001b[0m \u001b[32m0.0/106.7 kB\u001b[0m \u001b[31m?\u001b[0m eta \u001b[36m-:--:--\u001b[0m\r\u001b[2K     \u001b[90m━━━━━━━━━━━━━━━━━━━━━━━━━━━━━━━━━━━━━━━━\u001b[0m \u001b[32m106.7/106.7 kB\u001b[0m \u001b[31m3.0 MB/s\u001b[0m eta \u001b[36m0:00:00\u001b[0m\n",
            "\u001b[?25hCollecting portalocker (from sacrebleu)\n",
            "  Downloading portalocker-2.8.2-py3-none-any.whl (17 kB)\n",
            "Requirement already satisfied: regex in /usr/local/lib/python3.10/dist-packages (from sacrebleu) (2023.12.25)\n",
            "Requirement already satisfied: tabulate>=0.8.9 in /usr/local/lib/python3.10/dist-packages (from sacrebleu) (0.9.0)\n",
            "Requirement already satisfied: numpy>=1.17 in /usr/local/lib/python3.10/dist-packages (from sacrebleu) (1.25.2)\n",
            "Collecting colorama (from sacrebleu)\n",
            "  Downloading colorama-0.4.6-py2.py3-none-any.whl (25 kB)\n",
            "Requirement already satisfied: lxml in /usr/local/lib/python3.10/dist-packages (from sacrebleu) (4.9.4)\n",
            "Installing collected packages: portalocker, colorama, sacrebleu\n",
            "Successfully installed colorama-0.4.6 portalocker-2.8.2 sacrebleu-2.4.2\n"
          ]
        }
      ]
    },
    {
      "cell_type": "code",
      "source": [
        "pip install bert-score\n"
      ],
      "metadata": {
        "colab": {
          "base_uri": "https://localhost:8080/"
        },
        "id": "JVpoPQDMlfh2",
        "outputId": "0d606f89-42fb-41d4-a94d-0b6b90199e7b"
      },
      "execution_count": null,
      "outputs": [
        {
          "output_type": "stream",
          "name": "stdout",
          "text": [
            "Collecting bert-score\n",
            "  Downloading bert_score-0.3.13-py3-none-any.whl (61 kB)\n",
            "\u001b[?25l     \u001b[90m━━━━━━━━━━━━━━━━━━━━━━━━━━━━━━━━━━━━━━━━\u001b[0m \u001b[32m0.0/61.1 kB\u001b[0m \u001b[31m?\u001b[0m eta \u001b[36m-:--:--\u001b[0m\r\u001b[2K     \u001b[90m━━━━━━━━━━━━━━━━━━━━━━━━━━━━━━━━━━━━━━━━\u001b[0m \u001b[32m61.1/61.1 kB\u001b[0m \u001b[31m1.8 MB/s\u001b[0m eta \u001b[36m0:00:00\u001b[0m\n",
            "\u001b[?25hRequirement already satisfied: torch>=1.0.0 in /usr/local/lib/python3.10/dist-packages (from bert-score) (2.2.1+cu121)\n",
            "Requirement already satisfied: pandas>=1.0.1 in /usr/local/lib/python3.10/dist-packages (from bert-score) (2.0.3)\n",
            "Requirement already satisfied: transformers>=3.0.0 in /usr/local/lib/python3.10/dist-packages (from bert-score) (4.40.2)\n",
            "Requirement already satisfied: numpy in /usr/local/lib/python3.10/dist-packages (from bert-score) (1.25.2)\n",
            "Requirement already satisfied: requests in /usr/local/lib/python3.10/dist-packages (from bert-score) (2.31.0)\n",
            "Requirement already satisfied: tqdm>=4.31.1 in /usr/local/lib/python3.10/dist-packages (from bert-score) (4.66.4)\n",
            "Requirement already satisfied: matplotlib in /usr/local/lib/python3.10/dist-packages (from bert-score) (3.7.1)\n",
            "Requirement already satisfied: packaging>=20.9 in /usr/local/lib/python3.10/dist-packages (from bert-score) (24.0)\n",
            "Requirement already satisfied: python-dateutil>=2.8.2 in /usr/local/lib/python3.10/dist-packages (from pandas>=1.0.1->bert-score) (2.8.2)\n",
            "Requirement already satisfied: pytz>=2020.1 in /usr/local/lib/python3.10/dist-packages (from pandas>=1.0.1->bert-score) (2023.4)\n",
            "Requirement already satisfied: tzdata>=2022.1 in /usr/local/lib/python3.10/dist-packages (from pandas>=1.0.1->bert-score) (2024.1)\n",
            "Requirement already satisfied: filelock in /usr/local/lib/python3.10/dist-packages (from torch>=1.0.0->bert-score) (3.14.0)\n",
            "Requirement already satisfied: typing-extensions>=4.8.0 in /usr/local/lib/python3.10/dist-packages (from torch>=1.0.0->bert-score) (4.11.0)\n",
            "Requirement already satisfied: sympy in /usr/local/lib/python3.10/dist-packages (from torch>=1.0.0->bert-score) (1.12)\n",
            "Requirement already satisfied: networkx in /usr/local/lib/python3.10/dist-packages (from torch>=1.0.0->bert-score) (3.3)\n",
            "Requirement already satisfied: jinja2 in /usr/local/lib/python3.10/dist-packages (from torch>=1.0.0->bert-score) (3.1.4)\n",
            "Requirement already satisfied: fsspec in /usr/local/lib/python3.10/dist-packages (from torch>=1.0.0->bert-score) (2023.6.0)\n",
            "Collecting nvidia-cuda-nvrtc-cu12==12.1.105 (from torch>=1.0.0->bert-score)\n",
            "  Using cached nvidia_cuda_nvrtc_cu12-12.1.105-py3-none-manylinux1_x86_64.whl (23.7 MB)\n",
            "Collecting nvidia-cuda-runtime-cu12==12.1.105 (from torch>=1.0.0->bert-score)\n",
            "  Using cached nvidia_cuda_runtime_cu12-12.1.105-py3-none-manylinux1_x86_64.whl (823 kB)\n",
            "Collecting nvidia-cuda-cupti-cu12==12.1.105 (from torch>=1.0.0->bert-score)\n",
            "  Using cached nvidia_cuda_cupti_cu12-12.1.105-py3-none-manylinux1_x86_64.whl (14.1 MB)\n",
            "Collecting nvidia-cudnn-cu12==8.9.2.26 (from torch>=1.0.0->bert-score)\n",
            "  Using cached nvidia_cudnn_cu12-8.9.2.26-py3-none-manylinux1_x86_64.whl (731.7 MB)\n",
            "Collecting nvidia-cublas-cu12==12.1.3.1 (from torch>=1.0.0->bert-score)\n",
            "  Using cached nvidia_cublas_cu12-12.1.3.1-py3-none-manylinux1_x86_64.whl (410.6 MB)\n",
            "Collecting nvidia-cufft-cu12==11.0.2.54 (from torch>=1.0.0->bert-score)\n",
            "  Using cached nvidia_cufft_cu12-11.0.2.54-py3-none-manylinux1_x86_64.whl (121.6 MB)\n",
            "Collecting nvidia-curand-cu12==10.3.2.106 (from torch>=1.0.0->bert-score)\n",
            "  Using cached nvidia_curand_cu12-10.3.2.106-py3-none-manylinux1_x86_64.whl (56.5 MB)\n",
            "Collecting nvidia-cusolver-cu12==11.4.5.107 (from torch>=1.0.0->bert-score)\n",
            "  Using cached nvidia_cusolver_cu12-11.4.5.107-py3-none-manylinux1_x86_64.whl (124.2 MB)\n",
            "Collecting nvidia-cusparse-cu12==12.1.0.106 (from torch>=1.0.0->bert-score)\n",
            "  Using cached nvidia_cusparse_cu12-12.1.0.106-py3-none-manylinux1_x86_64.whl (196.0 MB)\n",
            "Collecting nvidia-nccl-cu12==2.19.3 (from torch>=1.0.0->bert-score)\n",
            "  Using cached nvidia_nccl_cu12-2.19.3-py3-none-manylinux1_x86_64.whl (166.0 MB)\n",
            "Collecting nvidia-nvtx-cu12==12.1.105 (from torch>=1.0.0->bert-score)\n",
            "  Using cached nvidia_nvtx_cu12-12.1.105-py3-none-manylinux1_x86_64.whl (99 kB)\n",
            "Requirement already satisfied: triton==2.2.0 in /usr/local/lib/python3.10/dist-packages (from torch>=1.0.0->bert-score) (2.2.0)\n",
            "Collecting nvidia-nvjitlink-cu12 (from nvidia-cusolver-cu12==11.4.5.107->torch>=1.0.0->bert-score)\n",
            "  Using cached nvidia_nvjitlink_cu12-12.4.127-py3-none-manylinux2014_x86_64.whl (21.1 MB)\n",
            "Requirement already satisfied: huggingface-hub<1.0,>=0.19.3 in /usr/local/lib/python3.10/dist-packages (from transformers>=3.0.0->bert-score) (0.20.3)\n",
            "Requirement already satisfied: pyyaml>=5.1 in /usr/local/lib/python3.10/dist-packages (from transformers>=3.0.0->bert-score) (6.0.1)\n",
            "Requirement already satisfied: regex!=2019.12.17 in /usr/local/lib/python3.10/dist-packages (from transformers>=3.0.0->bert-score) (2023.12.25)\n",
            "Requirement already satisfied: tokenizers<0.20,>=0.19 in /usr/local/lib/python3.10/dist-packages (from transformers>=3.0.0->bert-score) (0.19.1)\n",
            "Requirement already satisfied: safetensors>=0.4.1 in /usr/local/lib/python3.10/dist-packages (from transformers>=3.0.0->bert-score) (0.4.3)\n",
            "Requirement already satisfied: contourpy>=1.0.1 in /usr/local/lib/python3.10/dist-packages (from matplotlib->bert-score) (1.2.1)\n",
            "Requirement already satisfied: cycler>=0.10 in /usr/local/lib/python3.10/dist-packages (from matplotlib->bert-score) (0.12.1)\n",
            "Requirement already satisfied: fonttools>=4.22.0 in /usr/local/lib/python3.10/dist-packages (from matplotlib->bert-score) (4.51.0)\n",
            "Requirement already satisfied: kiwisolver>=1.0.1 in /usr/local/lib/python3.10/dist-packages (from matplotlib->bert-score) (1.4.5)\n",
            "Requirement already satisfied: pillow>=6.2.0 in /usr/local/lib/python3.10/dist-packages (from matplotlib->bert-score) (9.4.0)\n",
            "Requirement already satisfied: pyparsing>=2.3.1 in /usr/local/lib/python3.10/dist-packages (from matplotlib->bert-score) (3.1.2)\n",
            "Requirement already satisfied: charset-normalizer<4,>=2 in /usr/local/lib/python3.10/dist-packages (from requests->bert-score) (3.3.2)\n",
            "Requirement already satisfied: idna<4,>=2.5 in /usr/local/lib/python3.10/dist-packages (from requests->bert-score) (3.7)\n",
            "Requirement already satisfied: urllib3<3,>=1.21.1 in /usr/local/lib/python3.10/dist-packages (from requests->bert-score) (2.0.7)\n",
            "Requirement already satisfied: certifi>=2017.4.17 in /usr/local/lib/python3.10/dist-packages (from requests->bert-score) (2024.2.2)\n",
            "Requirement already satisfied: six>=1.5 in /usr/local/lib/python3.10/dist-packages (from python-dateutil>=2.8.2->pandas>=1.0.1->bert-score) (1.16.0)\n",
            "Requirement already satisfied: MarkupSafe>=2.0 in /usr/local/lib/python3.10/dist-packages (from jinja2->torch>=1.0.0->bert-score) (2.1.5)\n",
            "Requirement already satisfied: mpmath>=0.19 in /usr/local/lib/python3.10/dist-packages (from sympy->torch>=1.0.0->bert-score) (1.3.0)\n",
            "Installing collected packages: nvidia-nvtx-cu12, nvidia-nvjitlink-cu12, nvidia-nccl-cu12, nvidia-curand-cu12, nvidia-cufft-cu12, nvidia-cuda-runtime-cu12, nvidia-cuda-nvrtc-cu12, nvidia-cuda-cupti-cu12, nvidia-cublas-cu12, nvidia-cusparse-cu12, nvidia-cudnn-cu12, nvidia-cusolver-cu12, bert-score\n",
            "Successfully installed bert-score-0.3.13 nvidia-cublas-cu12-12.1.3.1 nvidia-cuda-cupti-cu12-12.1.105 nvidia-cuda-nvrtc-cu12-12.1.105 nvidia-cuda-runtime-cu12-12.1.105 nvidia-cudnn-cu12-8.9.2.26 nvidia-cufft-cu12-11.0.2.54 nvidia-curand-cu12-10.3.2.106 nvidia-cusolver-cu12-11.4.5.107 nvidia-cusparse-cu12-12.1.0.106 nvidia-nccl-cu12-2.19.3 nvidia-nvjitlink-cu12-12.4.127 nvidia-nvtx-cu12-12.1.105\n"
          ]
        }
      ]
    },
    {
      "cell_type": "code",
      "source": [
        "import nltk\n",
        "nltk.download('punkt')\n"
      ],
      "metadata": {
        "colab": {
          "base_uri": "https://localhost:8080/"
        },
        "id": "eiZ9IFxyfYLg",
        "outputId": "607c488c-f75c-4492-de26-4d18e93f82d7"
      },
      "execution_count": null,
      "outputs": [
        {
          "output_type": "stream",
          "name": "stderr",
          "text": [
            "[nltk_data] Downloading package punkt to /root/nltk_data...\n",
            "[nltk_data]   Unzipping tokenizers/punkt.zip.\n"
          ]
        },
        {
          "output_type": "execute_result",
          "data": {
            "text/plain": [
              "True"
            ]
          },
          "metadata": {},
          "execution_count": 5
        }
      ]
    },
    {
      "cell_type": "code",
      "execution_count": null,
      "metadata": {
        "id": "OE9Fdv50dvzs"
      },
      "outputs": [],
      "source": [
        "from nltk.translate.bleu_score import corpus_bleu\n",
        "from nltk.translate.bleu_score import sentence_bleu\n",
        "from nltk.translate.bleu_score import SmoothingFunction\n",
        "from nltk.translate.meteor_score import meteor_score\n",
        "from nltk.translate.bleu_score import modified_precision\n",
        "from nltk.translate.bleu_score import brevity_penalty\n",
        "from rouge import Rouge\n",
        "import torch\n",
        "from nltk.tokenize import word_tokenize\n",
        "from transformers import GPT2LMHeadModel, GPT2Tokenizer\n",
        "from bert_score import score as bert_score\n",
        "from sklearn.decomposition import TruncatedSVD\n",
        "from sklearn.feature_extraction.text import TfidfVectorizer\n",
        "from sklearn.metrics.pairwise import cosine_similarity\n",
        "\n"
      ]
    },
    {
      "cell_type": "markdown",
      "source": [
        "## References and Hypothesis\n"
      ],
      "metadata": {
        "id": "zQLoJDkzQ8KV"
      }
    },
    {
      "cell_type": "code",
      "source": [
        "# human-generated sentences\n",
        "references= [[\"\"\"\n",
        "Category: Beaches\n",
        "- Marina Beach is a 13-km-long urban beach along the Bay of Bengal that runs from Fort St.\n",
        "George in the north up to Foreshore Estate in the south. It is India's longest beach and one of the world's longest beaches and attracts around 50,000 visitors during weekends.\n",
        "Attractions at the Marina include the Chennai Lighthouse, MGR Memorial, Anna Memorial and Jayalalitha Memorial.\n",
        "The Marina's 6 km promenade includes statues of several historical figures including Mahatma Gandhi, Annie Besant, Robert Caldwell, Thiruvalluvar, Bharathiyar and Kamrajar, MGR Samadhi in Marina Beach\n",
        "- Elliot's Beach, also known as Besant Nagar beach begins where the Marina ends. The beach is famous for its calm atmosphere and is preferable among morning walkers.\n",
        "The iconic Karl Schmidt memorial, named after the Dutch sailor who lost his life in the process of saving others from drowning is located at the heart of Elliot's beach.\n",
        "- Blue Flag Beach\n",
        "\n",
        "Category: Wildlife\n",
        "- Arignar Anna Zoological Park (better known as Vandalur Zoo) is located south-west of the city.\n",
        "Covering an area of 1490 acres, it is India's largest zoo. It has about 2200 animals belonging to 170 different species including of mammals, birds, reptiles, amphibians and fish.\n",
        "The zoo also has a lion safari, an elephant safari, a nocturnal animal house, walk-through aviary, butterfly house, reptile house and a crocodile enclosure.\n",
        "The park has tree-lined paved paths for long treks inside the campus, enabling the visitors to walk 15 to 20 kilometres (9.3 to 12.4 mi) during a visit.\n",
        "Battery-operated vehicles with a range of up to 80 kilometres (50 miles) are available for rent.\n",
        "- Madras Crocodile Bank Trust, located south of the city, along the East Coast Road, is an important centre for herpetological research.\n",
        "It houses several fresh-water and salt-water crocodiles, alligators, gharials, turtles and snakes.\n",
        "Founded by Romulus Whitaker in 1976, the CrocBank now has a total of 2,483 animals, including 14 species of crocodiles, 10 species of turtles, 3 species of snakes, and 1 species of lizard.\n",
        "The bank is home to 14 species of the 23 crocodilian species living across the world, two of which are listed by the IUCN as critically endangered and three more as threatened.\n",
        "- Guindy National Park, carved as a garden space from the Guindy Forest in 1670 and later established as a park in 1976, it is one of the country's smallest National Park with an area of 2.76 km2 and is located completely inside the city.\n",
        "It hosts a variety of endangered deer, foxes, monkeys and snakes. The Guindy Snake Park situated in the National Park has a large collection of snakes and is an important source of antivenom serum.\n",
        "For ex-situ conservation, about 22 acres (8.9 hectares) of the Guindy National Park has been carved out into a park which is known as the Children's Park and play area at the northeast corner of the national park with a collection of animals and birds.\n",
        "- Pallikaranai Marshland Park\n",
        "- Adyar Eco Park, locally known as Tholkappia Poonga is an ecological park set up in the Adyar estuary area to restore the vegetation of the freshwater eco-systems of the Coromandel Coast, especially the fragile ecosystem of the Adyar estuary and creek. A total of 143 species of fish, amphibians, birds and reptiles have been seen in the park and the number is expected to go up to 200. More than 85 different kinds of birds, including rare black bittern, cinnamon bittern, black-winged kite, white-bellied sea eagle, pied kingfisher, yellow wagtails and black-winged stilt have been spotted by ornithologists in the green expanse.\n",
        "- Chetpet Lake, also known as Chetpet Eco Park is a lake spread over 15 acres and is the only lake in the centre of the city. The lake became a tourist attraction from 2014 after it underwent a remarkable transformation from being a heavily encroached filthy lake to having clean water with facilities for boating, angling, water sports and beautifully surrounded by a park.\n",
        "- The Huddleston Gardens of Theosophical Society is the garden that lies on the south bank of the Adyar River where the river meets the Bay of Bengal and covers 260 acres. The garden is located inside the Adyar Theosophical society which is the headquarters of the Theosophical Society which was an organization formed in 1875 to advance Theosophy. The garden also has a 450-year-old banyan tree, which was known locally as Adyar aala maram, whose aerial roots covered some 60,000 sq m. and is situated in the middle of the Theosophical Society Campus. One of the largest banyan trees in the world, it continues to miraculously survive and even thrive despite severe storm damage to its main trunk in 1989.\n",
        "\n",
        "\"\"\"]]\n",
        "#  system-generated output\n",
        "hypothesis_openai = [\"\"\"\n",
        "Some places in Chennai related to nature are Aringar Anna Zoological Park in Vandalur, Valluvar Kottam, and Chennai viewed from St. Thomas Mount. Museums in Chennai include the Government Museum at Egmore and Chettinad Palace.\n",
        "Beaches in Chennai include Marina Beach, Elliot's Beach, and Blue Flag Beach.\n",
        "beaches and attracts around 50,000 visitors during weekends. Attractions at the Marina include the\n",
        "Chennai Lighthouse, MGR Memorial, Anna Memorial and Jayalalitha Memorial. The Marina's 6 km\n",
        "promenade includes statues of several historical figures including Mahatma Gandhi, Annie Besant,\n",
        "Robert Caldwell, Thiruvalluvar, Bharathiyar and Kamrajar.MGR Samadhi in Marina Beach\n",
        "- Elliot's Beach, also known as Besant Nagar beach begins where the Marina ends. The beach is famous\n",
        "for its calm atmosphere and is preferable among morning walkers. The iconic Karl Schmidt memorial,\n",
        "named after the Dutch sailor who lost his life in the process of saving others from drowning is located at\n",
        "the heart of Elliot's beach.\n",
        "- War Memorial\n",
        "- Schmidt memorial at Elliot's beach\n",
        "- Government Museum at Egmore\n",
        "- Valluvar Kottam\n",
        "- Aringar Anna Zoolological Park in Vandalur\n",
        "- The Victoria Public Hall\n",
        " \"\"\"]\n",
        "\n",
        "hypothesis_llama2= [\"\"\"\n",
        "Here are some places related to nature, museums and beaches in Chennai:\n",
        "1. Guindy National Park - This is a great place for nature lovers, with plenty of flora and fauna to explore.\n",
        "2. Government Museum - This museum has a vast collection of artifacts, including ancient sculptures and paintings.\n",
        "3. Marina Beach - This is one of the longest beaches in India, with plenty of sand and sea to enjoy.\n",
        "4. Vivekananda Rock Memorial - This is a popular tourist attraction located on an island off the coast of Chennai.\n",
        "5. Crocodile Bank - This is a zoo that specializes in crocodiles and other reptiles, making it a great place for animal lovers.\n",
        "\"\"\"]\n",
        "\n",
        "hypothesis_wizard=[\"\"\"\n",
        "Give some places related to nature, museums and beaches in chennai.\n",
        "A:Sure! Here are some places related to nature, museums and beaches in Chennai:\n",
        "1. Guindy National Park - This is a great place for nature lovers, with plenty of flora and fauna to explore.\n",
        "2. Government Museum - This museum has a vast collection of artifacts, including ancient sculptures and paintings.\n",
        "3. Marina Beach - This is one of the longest beaches in India, with plenty of sand and sea to enjoy.\n",
        "4. Vivekananda Rock Memorial - This is a popular tourist attraction located on an island off the coast of Chennai.\n",
        "5. Crocodile Bank - This is a zoo that specializes in crocodiles and other reptiles, making it a great place for animal lovers.\n",
        "\"\"\"]\n"
      ],
      "metadata": {
        "id": "qjV09VgcQqlk"
      },
      "execution_count": null,
      "outputs": []
    },
    {
      "cell_type": "markdown",
      "source": [
        "## Evaluation Metrics"
      ],
      "metadata": {
        "id": "c8xRS2c6fDiE"
      }
    },
    {
      "cell_type": "code",
      "source": [
        "from IPython.display import clear_output"
      ],
      "metadata": {
        "id": "I3M7JS2dbsKI"
      },
      "execution_count": null,
      "outputs": []
    },
    {
      "cell_type": "markdown",
      "source": [
        "### LSA Cosine Similarity"
      ],
      "metadata": {
        "id": "W0vTpQslM6IH"
      }
    },
    {
      "cell_type": "code",
      "source": [
        "def calculate_lsa_cosine_similarity(references, hypothesis):\n",
        "    # Tokenize and vectorize the references and hypothesis\n",
        "    all_texts = [\" \".join(ref) for ref in references] + hypothesis\n",
        "    vectorizer = TfidfVectorizer()\n",
        "    X = vectorizer.fit_transform(all_texts)\n",
        "\n",
        "    # Perform Singular Value Decomposition (SVD)\n",
        "    svd = TruncatedSVD(n_components=2, random_state=42)\n",
        "    X_svd = svd.fit_transform(X)\n",
        "\n",
        "    # Compute cosine similarity between transformed vectors\n",
        "    cos_sim = cosine_similarity(X_svd[-1].reshape(1, -1), X_svd[:-1])[0]\n",
        "\n",
        "    return cos_sim\n"
      ],
      "metadata": {
        "id": "9kcmLJlDfCvF"
      },
      "execution_count": null,
      "outputs": []
    },
    {
      "cell_type": "code",
      "source": [
        "lsa_cos_sim_openai = calculate_lsa_cosine_similarity(references, hypothesis_openai)\n",
        "print(\"LSA Cosine Similarity of Open AI Model:\", lsa_cos_sim_openai)\n",
        "lsa_cos_sim__llama2 = calculate_lsa_cosine_similarity(references, hypothesis_llama2)\n",
        "print(\"LSA Cosine Similarity of Llama2:\", lsa_cos_sim__llama2)\n",
        "lsa_cos_sim__wizard= calculate_lsa_cosine_similarity(references, hypothesis_wizard)\n",
        "print(\"LSA Cosine Similarity of Wizard:\", lsa_cos_sim__wizard)"
      ],
      "metadata": {
        "colab": {
          "base_uri": "https://localhost:8080/"
        },
        "id": "Wa53syjbMv3E",
        "outputId": "b367d2c3-5b30-4a11-98e0-903f2599c340"
      },
      "execution_count": null,
      "outputs": [
        {
          "output_type": "stream",
          "name": "stdout",
          "text": [
            "LSA Cosine Similarity of Open AI Model: [0.60577915]\n",
            "LSA Cosine Similarity of Llama2: [0.46070827]\n",
            "LSA Cosine Similarity of Wizard: [0.44443192]\n"
          ]
        }
      ]
    },
    {
      "cell_type": "markdown",
      "source": [
        "### sacrebleu"
      ],
      "metadata": {
        "id": "mI95BJfaN9-A"
      }
    },
    {
      "cell_type": "code",
      "source": [
        "import sacrebleu\n",
        "\n",
        "def calculate_sacrebleu_scores(references, hypothesis):\n",
        "    # Compute BLEU score\n",
        "    sacrebleu_score = sacrebleu.corpus_bleu(hypothesis, references)\n",
        "\n",
        "    # Extract and return BLEU scores for n-grams 1 to 4\n",
        "    bleu_scores = [sacrebleu_score.precisions[i] for i in range(4)]\n",
        "    return bleu_scores[0],bleu_scores[1], bleu_scores[2]\n"
      ],
      "metadata": {
        "id": "PqsOoj8Vi1zh"
      },
      "execution_count": null,
      "outputs": []
    },
    {
      "cell_type": "code",
      "source": [
        "BLEU1_Score_openai,BLEU2_Score_openai,BLEU3_Score_openai = calculate_sacrebleu_scores(references, hypothesis_openai)\n",
        "\n",
        "# Print BLEU-1 score\n",
        "print(\"BLEU-1 Score openai:\", BLEU1_Score_openai)\n",
        "# Print BLEU-2 score\n",
        "print(\"BLEU-2 Score openai:\", BLEU2_Score_openai)\n",
        "# Print BLEU-3 score\n",
        "print(\"BLEU-3 Score openai:\", BLEU3_Score_openai)\n",
        "print(\"\\n\")\n",
        "BLEU1_Score__llama2 ,BLEU2_Score__llama2 ,BLEU3_Score__llama2  = calculate_sacrebleu_scores(references,hypothesis_llama2)\n",
        "# Print BLEU-1 score\n",
        "print(\"BLEU-1 Score of Llama2:\", BLEU1_Score__llama2 )\n",
        "# Print BLEU-2 score\n",
        "print(\"BLEU-2 Score of Llama2:\", BLEU2_Score__llama2 )\n",
        "# Print BLEU-3 score\n",
        "print(\"BLEU-3 Score of Llama2:\", BLEU3_Score__llama2 )\n",
        "print(\"\\n\")\n",
        "\n",
        "BLEU1_Score__Wizard ,BLEU2_Score__Wizard ,BLEU3_Score__Wizard  = calculate_sacrebleu_scores(references,hypothesis_wizard)\n",
        "# Print BLEU-1 score\n",
        "print(\"BLEU-1 Score of Wizard:\", BLEU1_Score__Wizard)\n",
        "# Print BLEU-2 score\n",
        "print(\"BLEU-2 Score of Wizard:\", BLEU2_Score__Wizard )\n",
        "# Print BLEU-3 score\n",
        "print(\"BLEU-3 Score of Wizard:\", BLEU3_Score__Wizard)"
      ],
      "metadata": {
        "colab": {
          "base_uri": "https://localhost:8080/"
        },
        "id": "R8hZ2VzdT05N",
        "outputId": "74f789d5-2c7c-424f-a133-19d478878aef"
      },
      "execution_count": null,
      "outputs": [
        {
          "output_type": "stream",
          "name": "stdout",
          "text": [
            "BLEU-1 Score openai: 79.12621359223301\n",
            "BLEU-2 Score openai: 62.4390243902439\n",
            "BLEU-3 Score openai: 58.8235294117647\n",
            "\n",
            "\n",
            "BLEU-1 Score of Llama2: 63.84615384615385\n",
            "BLEU-2 Score of Llama2: 13.178294573643411\n",
            "BLEU-3 Score of Llama2: 3.125\n",
            "\n",
            "\n",
            "BLEU-1 Score of Wizard: 61.224489795918366\n",
            "BLEU-2 Score of Wizard: 12.32876712328767\n",
            "BLEU-3 Score of Wizard: 2.7586206896551726\n"
          ]
        }
      ]
    },
    {
      "cell_type": "markdown",
      "source": [
        "### gleu_score"
      ],
      "metadata": {
        "id": "qGjbcRPPOFN6"
      }
    },
    {
      "cell_type": "code",
      "source": [
        "def calculate_gleu_score(references, hypothesis):\n",
        "    # Tokenize references and hypothesis\n",
        "    tokenized_references = [[nltk.word_tokenize(ref) for ref in refs] for refs in references]\n",
        "    tokenized_hypothesis = [nltk.word_tokenize(hyp) for hyp in hypothesis]\n",
        "\n",
        "    # Compute GLEU score\n",
        "    gleu_score = nltk.translate.gleu_score.corpus_gleu(tokenized_references, tokenized_hypothesis)\n",
        "    return gleu_score\n"
      ],
      "metadata": {
        "id": "edVizWVxjD8H"
      },
      "execution_count": null,
      "outputs": []
    },
    {
      "cell_type": "code",
      "source": [
        "gleu_score_openai = calculate_gleu_score(references, hypothesis_openai)\n",
        "print(\"GLEU Score openai:\", gleu_score_openai)\n",
        "gleu_score_llama2= calculate_gleu_score(references, hypothesis_llama2)\n",
        "print(\"GLEU Score of Llama2:\", gleu_score_llama2)\n",
        "gleu_score_Wizard= calculate_gleu_score(references, hypothesis_wizard)\n",
        "print(\"GLEU Score of Wizard:\", gleu_score_Wizard)"
      ],
      "metadata": {
        "colab": {
          "base_uri": "https://localhost:8080/"
        },
        "id": "kdWWncPlN58c",
        "outputId": "98b6f748-153e-4495-87fb-732b9a22d22b"
      },
      "execution_count": null,
      "outputs": [
        {
          "output_type": "stream",
          "name": "stdout",
          "text": [
            "GLEU Score openai: 0.1501416430594901\n",
            "GLEU Score of Llama2: 0.03002832861189802\n",
            "GLEU Score of Wizard:: 0.03229461756373938\n"
          ]
        }
      ]
    },
    {
      "cell_type": "code",
      "source": [],
      "metadata": {
        "id": "K6jM0rw1zPfQ"
      },
      "execution_count": null,
      "outputs": []
    },
    {
      "cell_type": "markdown",
      "source": [
        "### BERT Score"
      ],
      "metadata": {
        "id": "UYcq_rNuOwvr"
      }
    },
    {
      "cell_type": "code",
      "source": [
        "%%time\n",
        "def calculate_BERT_scores(references, hypothesis):\n",
        "  P, R, F1 = bert_score(hypothesis, references, lang='en', verbose=True)\n",
        "  return P,R,F1\n",
        "clear_output()"
      ],
      "metadata": {
        "colab": {
          "base_uri": "https://localhost:8080/"
        },
        "id": "sqsZpPP9Okst",
        "outputId": "2cb65942-3f2a-4f79-8f81-6bbd373bc0bf"
      },
      "execution_count": null,
      "outputs": [
        {
          "output_type": "stream",
          "name": "stdout",
          "text": [
            "CPU times: user 3.93 ms, sys: 0 ns, total: 3.93 ms\n",
            "Wall time: 6.86 ms\n"
          ]
        }
      ]
    },
    {
      "cell_type": "code",
      "source": [
        "%%time\n",
        "P_openai, R_openai, F1_openai = calculate_BERT_scores(references, hypothesis_openai)\n",
        "clear_output()\n",
        "print(\"BERTScore \")\n",
        "print(\"Precision of openai:\", P_openai)\n",
        "print(\"Recall  of openai:\", R_openai)\n",
        "print(\"F1  of openai:\", F1_openai)\n"
      ],
      "metadata": {
        "colab": {
          "base_uri": "https://localhost:8080/",
          "height": 210,
          "referenced_widgets": [
            "fd6515004768407ea9feed0241e85409",
            "1be1d4a23c8048888bd0b2566e2e3115",
            "ef79f14dc7e24558a77e809f5ad4f539",
            "8a85e6e54a9c49e7966faa0380cf6076",
            "629b18106175465bbdd6b3551e651a43",
            "30157dcb00f54eec9c85066c1765e257",
            "10a1d3bf83fb4340b4148efb727443a9",
            "184b2f8781ab497da81ec7cda53e7757",
            "a2f06f3b61b845bd9e7acfa91235bed2",
            "d8f12edb1ec14d24a8575967142360d9",
            "dd76882145034037aa874825f84dfb95",
            "7aa0f44cdf3240af90498d8f322abacf",
            "9b662d60d7b445fc9c7b7e0400adfd6d",
            "6aad97df10eb417d800b9a8496f6d020",
            "e2b523cec76b4b20917c5a1653ea9aea",
            "0d22ccf4187e48b3920e865884a069fb",
            "43e722aa76f24c49bcc545f7d5a7a3ac",
            "a9e6eeb5a28441cda89fe67c1459fe6e",
            "31d498aa7edf4d04a140525fabf41f1b",
            "cec6da618c0d437aabf9c162de404bd4",
            "48891f906734420daa6e3176249dcb88",
            "c400c29de051492da4dc3bcc106cf6ef"
          ]
        },
        "id": "ifODwjKAx0bF",
        "outputId": "9f88624e-d060-4ca5-cd0c-2181f9b2973c"
      },
      "execution_count": null,
      "outputs": [
        {
          "output_type": "stream",
          "name": "stdout",
          "text": [
            "BERTScore \n",
            "Precision of openai: tensor([0.8987])\n",
            "Recall  of openai: tensor([0.8473])\n",
            "F1  of openai: tensor([0.8722])\n",
            "CPU times: user 12.5 s, sys: 1.49 s, total: 14 s\n",
            "Wall time: 27.9 s\n"
          ]
        }
      ]
    },
    {
      "cell_type": "code",
      "source": [
        "%%time\n",
        "P_llama2, R_llama2, F1_llama2 = calculate_BERT_scores(references, hypothesis_llama2)\n",
        "clear_output()\n",
        "print(\"BERTScore \")\n",
        "print(\"Precision of Llama2:\", P_llama2)\n",
        "print(\"Recall of Llama2:\", R_llama2)\n",
        "print(\"F1 of Llama2:\", F1_llama2)"
      ],
      "metadata": {
        "colab": {
          "base_uri": "https://localhost:8080/",
          "height": 160,
          "referenced_widgets": [
            "417a704f81594967a02dbaceaf3dc3e4",
            "73332b076c43425abe17d3bfd17fa8ca",
            "e03c7c0e2b2f4cbc8382ca5098a41284",
            "2e190990febb480f8c29a7bf0bab93e1",
            "a20ab1564cf9451c9d3dbf7ec4a71846",
            "d9deb86095a54884814ba4b758d08507",
            "a7c05c12b6664a348ac5ddece472c7d7",
            "ea9393dc58c74bb480fb18131f6605ac",
            "d8ff7d2c5a554c2b81d57394f1348c8e",
            "df535993c57e43a4af295f5a47897f9b",
            "db69b8bcb65048aaa060f1da792c1587",
            "c87e4f9ed80a48ef8b989fe1983e9a75"
          ]
        },
        "id": "uITa8IBbejne",
        "outputId": "f94d7c52-45d3-41bb-ca5e-770427ecc29f"
      },
      "execution_count": null,
      "outputs": [
        {
          "output_type": "stream",
          "name": "stdout",
          "text": [
            "BERTScore \n",
            "Precision of Llama2: tensor([0.8580])\n",
            "Recall of Llama2: tensor([0.8057])\n",
            "F1 of Llama2: tensor([0.8310])\n",
            "CPU times: user 12.7 s, sys: 880 ms, total: 13.6 s\n",
            "Wall time: 22.3 s\n"
          ]
        }
      ]
    },
    {
      "cell_type": "code",
      "source": [
        "%%time\n",
        "P_Wizard, R_Wizard, F1_Wizard = calculate_BERT_scores(references, hypothesis_wizard)\n",
        "clear_output()\n",
        "print(\"BERTScore \")\n",
        "print(\"Precision of Wizard:\", P_Wizard)\n",
        "print(\"Recall of Wizard:\", R_Wizard)\n",
        "print(\"F1 of Wizard:\", F1_Wizard)\n"
      ],
      "metadata": {
        "colab": {
          "base_uri": "https://localhost:8080/",
          "height": 136,
          "referenced_widgets": [
            "4d835e93a5dc42c38050334a292820c4",
            "c59431f5e09948a6939a1869b7e4c2fe",
            "3de4ac4faa344d2ea5c5acde91176eab",
            "4d1ab6f9b4ca4867b90807ad38904cb4",
            "a81ce0f57a964d8abbd3deda8e8a7dea",
            "603a548a88b64b92b6bb7569d1851d82",
            "f6e1d71b62164935bd3cbc1ee46187b8",
            "49351b7382614ecaa490e52d6a13000b",
            "72ce692fd4ce48b390f69db9d8bf0a38",
            "cee9eabcaab44185b2cd07daf0fbea6d",
            "5d43d5e884464de48ec8597f7f2ae779",
            "1ef2bb2c77f04fef877cf76ac397072a"
          ]
        },
        "id": "SgtCzSdNe8JG",
        "outputId": "2519b8f9-a32e-42da-f122-728d06ea1b44"
      },
      "execution_count": null,
      "outputs": [
        {
          "output_type": "stream",
          "name": "stdout",
          "text": [
            "BERTScore \n",
            "Precision of Wizard: tensor([0.8482])\n",
            "Recall of Wizard: tensor([0.8059])\n",
            "F1 of Wizard: tensor([0.8265])\n",
            "CPU times: user 13.3 s, sys: 2.91 s, total: 16.2 s\n",
            "Wall time: 22.8 s\n"
          ]
        }
      ]
    },
    {
      "cell_type": "markdown",
      "source": [
        "### Rouge"
      ],
      "metadata": {
        "id": "NQfjd_8MOPgS"
      }
    },
    {
      "cell_type": "code",
      "source": [
        "from rouge import Rouge\n",
        "\n",
        "def calculate_rouge_scores(reference, hypothesis):\n",
        "    # Initialize Rouge\n",
        "    rouge = Rouge()\n",
        "\n",
        "    # Calculate ROUGE scores\n",
        "    scores = rouge.get_scores(hypothesis, reference)\n",
        "\n",
        "    # Extract and return ROUGE scores\n",
        "    rouge_1_score = scores[0]['rouge-1']\n",
        "    rouge_2_score = scores[0]['rouge-2']\n",
        "    rouge_l_score = scores[0]['rouge-l']\n",
        "\n",
        "    return rouge_1_score, rouge_2_score, rouge_l_score\n",
        "\n"
      ],
      "metadata": {
        "id": "UhNJYnIcy3vz"
      },
      "execution_count": null,
      "outputs": []
    },
    {
      "cell_type": "code",
      "source": [
        "# Calculate ROUGE scores\n",
        "rouge_1_openai, rouge_2_openai, rouge_l_openai = calculate_rouge_scores(references[0][0], hypothesis_openai[0])\n",
        "\n",
        "# Print ROUGE scores\n",
        "print(\"ROUGE-1 openai:\", rouge_1_openai)\n",
        "print(\"ROUGE-2 openai:\", rouge_2_openai)\n",
        "print(\"ROUGE-L openai:\", rouge_l_openai)\n",
        "\n",
        "print(\"\\n\")\n",
        "\n",
        "\n",
        "# Calculate ROUGE scores\n",
        "rouge_1_llama2, rouge_2_llama2, rouge_l_llama2 = calculate_rouge_scores(references[0][0], hypothesis_llama2[0])\n",
        "\n",
        "# Print ROUGE scores\n",
        "print(\"ROUGE-1 llama2:\", rouge_1_llama2)\n",
        "print(\"ROUGE-2 llama2:\", rouge_2_llama2)\n",
        "print(\"ROUGE-L llama2:\", rouge_l_llama2)\n",
        "print(\"\\n\")\n",
        "\n",
        "# Calculate ROUGE scores\n",
        "rouge_1_Wizard, rouge_2_Wizard, rouge_l_Wizard = calculate_rouge_scores(references[0][0], hypothesis_wizard[0])\n",
        "\n",
        "# Print ROUGE scores\n",
        "print(\"ROUGE-1 Wizard:\", rouge_1_Wizard)\n",
        "print(\"ROUGE-2 Wizard:\", rouge_2_Wizard)\n",
        "print(\"ROUGE-L Wizard:\", rouge_l_Wizard)"
      ],
      "metadata": {
        "colab": {
          "base_uri": "https://localhost:8080/"
        },
        "id": "6MIwXhWV-X9-",
        "outputId": "962a98f3-befe-415a-decf-26103e10a0bb"
      },
      "execution_count": null,
      "outputs": [
        {
          "output_type": "stream",
          "name": "stdout",
          "text": [
            "ROUGE-1 openai: {'r': 0.22794117647058823, 'p': 0.788135593220339, 'f': 0.35361216382020855}\n",
            "ROUGE-2 openai: {'r': 0.1577424023154848, 'p': 0.6449704142011834, 'f': 0.2534883689351271}\n",
            "ROUGE-L openai: {'r': 0.22794117647058823, 'p': 0.788135593220339, 'f': 0.35361216382020855}\n",
            "\n",
            "\n",
            "ROUGE-1 llama2: {'r': 0.1053921568627451, 'p': 0.5308641975308642, 'f': 0.17586911789027318}\n",
            "ROUGE-2 llama2: {'r': 0.020260492040520984, 'p': 0.1414141414141414, 'f': 0.03544303578243885}\n",
            "ROUGE-L llama2: {'r': 0.09558823529411764, 'p': 0.48148148148148145, 'f': 0.15950919968986413}\n",
            "\n",
            "\n",
            "ROUGE-1 Wizard: {'r': 0.1053921568627451, 'p': 0.5119047619047619, 'f': 0.17479674513583188}\n",
            "ROUGE-2 Wizard: {'r': 0.020260492040520984, 'p': 0.13592233009708737, 'f': 0.03526448136930647}\n",
            "ROUGE-L Wizard: {'r': 0.09558823529411764, 'p': 0.4642857142857143, 'f': 0.15853658253420588}\n"
          ]
        }
      ]
    },
    {
      "cell_type": "code",
      "source": [],
      "metadata": {
        "id": "4mLb3pP_Tt8K"
      },
      "execution_count": null,
      "outputs": []
    }
  ]
}